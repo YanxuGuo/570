{
 "cells": [
  {
   "cell_type": "markdown",
   "metadata": {},
   "source": [
    "# Group Project:  Covid Cases and Unemployment Rate"
   ]
  },
  {
   "cell_type": "markdown",
   "metadata": {},
   "source": [
    "### Group Member: Jing Duan/ Liyang Wu/Yanxu Guo"
   ]
  },
  {
   "cell_type": "code",
   "execution_count": 1,
   "metadata": {},
   "outputs": [],
   "source": [
    "import numpy as np\n",
    "import pandas as pd \n",
    "import matplotlib.pyplot as plt  \n",
    "import geopandas                         \n",
    "from shapely.geometry import Point \n",
    "import seaborn as sns \n",
    "\n",
    "import sklearn.cluster\n",
    "import statsmodels.api as sm\n",
    "import sklearn\n",
    "\n",
    "from mpl_toolkits.axes_grid1 import make_axes_locatable\n",
    "\n",
    "import statsmodels.formula.api as smf  \n",
    "import statsmodels.api as sm\n",
    "from sklearn.linear_model import LogisticRegression\n",
    "from sklearn.linear_model import LinearRegression\n",
    "from sklearn.model_selection import train_test_split\n",
    "from sklearn import linear_model                         \n",
    "from sklearn.preprocessing import StandardScaler   "
   ]
  },
  {
   "cell_type": "markdown",
   "metadata": {},
   "source": [
    "# 1. Relationship between Cases and Unemployment Rate"
   ]
  },
  {
   "cell_type": "code",
   "execution_count": 2,
   "metadata": {},
   "outputs": [
    {
     "data": {
      "text/html": [
       "<div>\n",
       "<style scoped>\n",
       "    .dataframe tbody tr th:only-of-type {\n",
       "        vertical-align: middle;\n",
       "    }\n",
       "\n",
       "    .dataframe tbody tr th {\n",
       "        vertical-align: top;\n",
       "    }\n",
       "\n",
       "    .dataframe thead th {\n",
       "        text-align: right;\n",
       "    }\n",
       "</style>\n",
       "<table border=\"1\" class=\"dataframe\">\n",
       "  <thead>\n",
       "    <tr style=\"text-align: right;\">\n",
       "      <th></th>\n",
       "      <th>unemployment_rate</th>\n",
       "      <th>new_cases</th>\n",
       "    </tr>\n",
       "    <tr>\n",
       "      <th>date</th>\n",
       "      <th></th>\n",
       "      <th></th>\n",
       "    </tr>\n",
       "  </thead>\n",
       "  <tbody>\n",
       "    <tr>\n",
       "      <th>2020-01-01</th>\n",
       "      <td>3.5</td>\n",
       "      <td>7</td>\n",
       "    </tr>\n",
       "    <tr>\n",
       "      <th>2020-02-01</th>\n",
       "      <td>3.5</td>\n",
       "      <td>19</td>\n",
       "    </tr>\n",
       "    <tr>\n",
       "      <th>2020-03-01</th>\n",
       "      <td>4.4</td>\n",
       "      <td>185786</td>\n",
       "    </tr>\n",
       "    <tr>\n",
       "      <th>2020-04-01</th>\n",
       "      <td>14.8</td>\n",
       "      <td>875927</td>\n",
       "    </tr>\n",
       "    <tr>\n",
       "      <th>2020-05-01</th>\n",
       "      <td>13.3</td>\n",
       "      <td>725468</td>\n",
       "    </tr>\n",
       "    <tr>\n",
       "      <th>2020-06-01</th>\n",
       "      <td>11.1</td>\n",
       "      <td>840357</td>\n",
       "    </tr>\n",
       "    <tr>\n",
       "      <th>2020-07-01</th>\n",
       "      <td>10.2</td>\n",
       "      <td>1925041</td>\n",
       "    </tr>\n",
       "    <tr>\n",
       "      <th>2020-08-01</th>\n",
       "      <td>8.4</td>\n",
       "      <td>1473779</td>\n",
       "    </tr>\n",
       "    <tr>\n",
       "      <th>2020-09-01</th>\n",
       "      <td>7.8</td>\n",
       "      <td>1210965</td>\n",
       "    </tr>\n",
       "    <tr>\n",
       "      <th>2020-10-01</th>\n",
       "      <td>6.9</td>\n",
       "      <td>1917316</td>\n",
       "    </tr>\n",
       "    <tr>\n",
       "      <th>2020-11-01</th>\n",
       "      <td>6.7</td>\n",
       "      <td>4437448</td>\n",
       "    </tr>\n",
       "    <tr>\n",
       "      <th>2020-12-01</th>\n",
       "      <td>6.7</td>\n",
       "      <td>6366469</td>\n",
       "    </tr>\n",
       "    <tr>\n",
       "      <th>2021-01-01</th>\n",
       "      <td>6.3</td>\n",
       "      <td>6095474</td>\n",
       "    </tr>\n",
       "    <tr>\n",
       "      <th>2021-02-01</th>\n",
       "      <td>6.2</td>\n",
       "      <td>2357838</td>\n",
       "    </tr>\n",
       "  </tbody>\n",
       "</table>\n",
       "</div>"
      ],
      "text/plain": [
       "            unemployment_rate  new_cases\n",
       "date                                    \n",
       "2020-01-01                3.5          7\n",
       "2020-02-01                3.5         19\n",
       "2020-03-01                4.4     185786\n",
       "2020-04-01               14.8     875927\n",
       "2020-05-01               13.3     725468\n",
       "2020-06-01               11.1     840357\n",
       "2020-07-01               10.2    1925041\n",
       "2020-08-01                8.4    1473779\n",
       "2020-09-01                7.8    1210965\n",
       "2020-10-01                6.9    1917316\n",
       "2020-11-01                6.7    4437448\n",
       "2020-12-01                6.7    6366469\n",
       "2021-01-01                6.3    6095474\n",
       "2021-02-01                6.2    2357838"
      ]
     },
     "execution_count": 2,
     "metadata": {},
     "output_type": "execute_result"
    }
   ],
   "source": [
    "covid = pd.read_excel('UNRATE.xls', sheet_name='Sheet1', index_col=0)\n",
    "covid"
   ]
  },
  {
   "cell_type": "code",
   "execution_count": 3,
   "metadata": {},
   "outputs": [
    {
     "data": {
      "image/png": "[encoded data removed]",
      "text/plain": [
       "<Figure size 1152x576 with 2 Axes>"
      ]
     },
     "metadata": {
      "needs_background": "light"
     },
     "output_type": "display_data"
    },
    {
     "data": {
      "text/plain": [
       "<Figure size 432x288 with 0 Axes>"
      ]
     },
     "metadata": {},
     "output_type": "display_data"
    }
   ],
   "source": [
    "# from the graph, we notice there is a lag effect\n",
    "fig, ax = plt.subplots(figsize=(16,8)) \n",
    "ax.plot(covid.index, covid['new_cases'],        \n",
    "        color='blue', alpha = 0.8, linestyle = '-', label = 'new cases')  \n",
    "\n",
    "ax.set_xlabel('date', fontsize=20) \n",
    "ax.FrontSize=30\n",
    "ax.set_ylabel('new cases',alpha = 0.8, color='blue', fontsize=20) \n",
    "ax2 =ax.twinx() # set another y-axis as unemployment rate\n",
    "ax2.Frontsize=30\n",
    "ax2.plot(covid.index, covid['unemployment_rate'],\n",
    "         color='red', alpha = 0.8, linestyle = ':', label = 'unemployment rate')\n",
    "ax2.set_ylabel('unemployment rate (%)',alpha = 0.8, color='red', fontsize=20)\n",
    "ax.set_title('New COVID-19 cases vs. unemployment rate in U.S.', fontsize = 30)\n",
    "\n",
    "ax.spines['right'].set_visible(False) # get ride of the line on the right\n",
    "ax.spines['top'].set_visible(False)   # get rid of the line on top\n",
    "ax2.spines['left'].set_visible(False) # get ride of the line on the left\n",
    "ax2.spines['top'].set_visible(False)   # get rid of the line on top\n",
    "\n",
    "ax.legend(frameon=False, fontsize=15, bbox_to_anchor =(0.155, 1))\n",
    "ax2.legend(frameon=False, fontsize=15, bbox_to_anchor =(0.23, 0.9))\n",
    "\n",
    "plt.show()\n",
    "plt.savefig('cases.svg')"
   ]
  },
  {
   "cell_type": "code",
   "execution_count": 4,
   "metadata": {},
   "outputs": [
    {
     "data": {
      "image/png": "[encoded data removed]",
      "text/plain": [
       "<Figure size 864x576 with 1 Axes>"
      ]
     },
     "metadata": {
      "needs_background": "light"
     },
     "output_type": "display_data"
    }
   ],
   "source": [
    "fig, ax = plt.subplots(figsize=(12,8)) \n",
    "ax.scatter(covid['new_cases'], covid['unemployment_rate'],         \n",
    "        color='black')  \n",
    "\n",
    "ax.set_ylabel('unemployment rate (%)', fontsize=14)\n",
    "ax.set_xlabel('new cases', fontsize=14)\n",
    "ax.set_title('New COVID-19 cases vs. unemployment rate in U.S.', fontsize=16)\n",
    "\n",
    "\n",
    "plt.show()"
   ]
  },
  {
   "cell_type": "code",
   "execution_count": 5,
   "metadata": {},
   "outputs": [
    {
     "name": "stdout",
     "output_type": "stream",
     "text": [
      "    t-11  t-10  t-9   t-8   t-7   t-6   t-5   t-4   t-3   t-2   t-1     t\n",
      "0    NaN   NaN  NaN   NaN   NaN   NaN   NaN   NaN   NaN   NaN   NaN   3.5\n",
      "1    NaN   NaN  NaN   NaN   NaN   NaN   NaN   NaN   NaN   NaN   3.5   3.5\n",
      "2    NaN   NaN  NaN   NaN   NaN   NaN   NaN   NaN   NaN   3.5   3.5   4.4\n",
      "3    NaN   NaN  NaN   NaN   NaN   NaN   NaN   NaN   3.5   3.5   4.4  14.8\n",
      "4    NaN   NaN  NaN   NaN   NaN   NaN   NaN   3.5   3.5   4.4  14.8  13.3\n",
      "5    NaN   NaN  NaN   NaN   NaN   NaN   3.5   3.5   4.4  14.8  13.3  11.1\n",
      "6    NaN   NaN  NaN   NaN   NaN   3.5   3.5   4.4  14.8  13.3  11.1  10.2\n",
      "7    NaN   NaN  NaN   NaN   3.5   3.5   4.4  14.8  13.3  11.1  10.2   8.4\n",
      "8    NaN   NaN  NaN   3.5   3.5   4.4  14.8  13.3  11.1  10.2   8.4   7.8\n",
      "9    NaN   NaN  3.5   3.5   4.4  14.8  13.3  11.1  10.2   8.4   7.8   6.9\n",
      "10   NaN   3.5  3.5   4.4  14.8  13.3  11.1  10.2   8.4   7.8   6.9   6.7\n",
      "11   3.5   3.5  4.4  14.8  13.3  11.1  10.2   8.4   7.8   6.9   6.7   6.7\n"
     ]
    }
   ],
   "source": [
    "# Lag Effect\n",
    "# reframe as supervised learning\n",
    "dataframe = pd.DataFrame()\n",
    "for i in range(11,0,-1):\n",
    "    dataframe['t-'+str(i)] = covid.shift(i).values[:,0]\n",
    "dataframe['t'] = covid.values[:,0]\n",
    "print(dataframe.head(12))\n",
    "dataframe = dataframe[12:]\n",
    "#dataframe"
   ]
  },
  {
   "cell_type": "code",
   "execution_count": 6,
   "metadata": {},
   "outputs": [],
   "source": [
    "from sklearn.ensemble import RandomForestRegressor\n",
    "from matplotlib import pyplot\n",
    "from sklearn.feature_selection import RFE"
   ]
  },
  {
   "cell_type": "code",
   "execution_count": 7,
   "metadata": {},
   "outputs": [
    {
     "name": "stdout",
     "output_type": "stream",
     "text": [
      "[0.12592593 0.12592593 0.13333333 0.14814815 0.10740741 0.13703704\n",
      " 0.1        0.12222222 0.        ]\n"
     ]
    },
    {
     "data": {
      "text/plain": [
       "array(['t-11', 't-10', 't-9', 't-8', 't-7', 't-6', 't-5', 't-4', 't-3'],\n",
       "      dtype=object)"
      ]
     },
     "execution_count": 7,
     "metadata": {},
     "output_type": "execute_result"
    }
   ],
   "source": [
    "# split into input and output\n",
    "df=dataframe.values\n",
    "x=df[:,1:10]\n",
    "y = df[:,11]\n",
    "# fit random forest model\n",
    "model = RandomForestRegressor(n_estimators=500, random_state=1)\n",
    "model.fit(x, y)\n",
    "# show importance scores\n",
    "print(model.feature_importances_)\n",
    "# plot importance scores\n",
    "names = dataframe.columns.values[0:-3]\n",
    "names\n",
    "#ticks = [i for i in range(len(names))]\n",
    "#pyplot.bar(ticks, model.feature_importances_)\n",
    "#pyplot.xticks(ticks, names)\n",
    "#pyplot.show()\n"
   ]
  },
  {
   "cell_type": "code",
   "execution_count": 35,
   "metadata": {},
   "outputs": [
    {
     "data": {
      "text/plain": [
       "Text(0.5, 1.0, 'Feature Importances')"
      ]
     },
     "execution_count": 35,
     "metadata": {},
     "output_type": "execute_result"
    },
    {
     "data": {
      "image/png": "[encoded data removed]",
      "text/plain": [
       "<Figure size 1152x648 with 1 Axes>"
      ]
     },
     "metadata": {
      "needs_background": "light"
     },
     "output_type": "display_data"
    }
   ],
   "source": [
    "fig, ax = plt.subplots(figsize =(16, 9))\n",
    "ax.bar(names,model.feature_importances_)\n",
    "ax.set_xlabel('lags',alpha = 0.8, color='black', fontsize=20)\n",
    "ax.set_ylabel('Index',alpha = 0.8, color='black', fontsize=20)\n",
    "ax.set_title('Feature Importances', fontsize = 30)\n"
   ]
  },
  {
   "cell_type": "code",
   "execution_count": 9,
   "metadata": {},
   "outputs": [
    {
     "name": "stdout",
     "output_type": "stream",
     "text": [
      "Selected Features:\n",
      "t-5\n"
     ]
    }
   ],
   "source": [
    "#feature selection for lag variables\n",
    "rfe = RFE(RandomForestRegressor(n_estimators=500, random_state=1), n_features_to_select=1)\n",
    "fit = rfe.fit(x, y)\n",
    "print('Selected Features:')\n",
    "for i in range(len(fit.support_)):\n",
    "    if fit.support_[i]:\n",
    "        print(names[i])"
   ]
  },
  {
   "cell_type": "code",
   "execution_count": 34,
   "metadata": {},
   "outputs": [
    {
     "data": {
      "image/png": "[encoded data removed]",
      "text/plain": [
       "<Figure size 1152x648 with 1 Axes>"
      ]
     },
     "metadata": {
      "needs_background": "light"
     },
     "output_type": "display_data"
    }
   ],
   "source": [
    "#feature selection for lag variables(graph)\n",
    "fig, ax = plt.subplots(figsize =(16, 9))\n",
    "ax.bar(names,fit.ranking_)\n",
    "ax.set_xlabel('lags',alpha = 0.8, color='black', fontsize=20)\n",
    "ax.set_ylabel('Feature Ranking',alpha = 0.8, color='black', fontsize=20)\n",
    "ax.set_title('RFE Feature Selection for Lag Variables', fontsize = 30)\n",
    "plt.savefig('lag.svg')"
   ]
  },
  {
   "cell_type": "markdown",
   "metadata": {},
   "source": [
    "# 2. Unemployment Rate accross counties"
   ]
  },
  {
   "cell_type": "code",
   "execution_count": 11,
   "metadata": {},
   "outputs": [
    {
     "data": {
      "text/html": [
       "<div>\n",
       "<style scoped>\n",
       "    .dataframe tbody tr th:only-of-type {\n",
       "        vertical-align: middle;\n",
       "    }\n",
       "\n",
       "    .dataframe tbody tr th {\n",
       "        vertical-align: top;\n",
       "    }\n",
       "\n",
       "    .dataframe thead th {\n",
       "        text-align: right;\n",
       "    }\n",
       "</style>\n",
       "<table border=\"1\" class=\"dataframe\">\n",
       "  <thead>\n",
       "    <tr style=\"text-align: right;\">\n",
       "      <th></th>\n",
       "      <th>State</th>\n",
       "      <th>2020</th>\n",
       "      <th>2021</th>\n",
       "      <th>Rate Change</th>\n",
       "      <th>Cases</th>\n",
       "    </tr>\n",
       "  </thead>\n",
       "  <tbody>\n",
       "    <tr>\n",
       "      <th>0</th>\n",
       "      <td>Alabama</td>\n",
       "      <td>3.1</td>\n",
       "      <td>4.0</td>\n",
       "      <td>0.9</td>\n",
       "      <td>521,201</td>\n",
       "    </tr>\n",
       "    <tr>\n",
       "      <th>1</th>\n",
       "      <td>Alaska</td>\n",
       "      <td>5.4</td>\n",
       "      <td>6.9</td>\n",
       "      <td>1.5</td>\n",
       "      <td>63,061</td>\n",
       "    </tr>\n",
       "    <tr>\n",
       "      <th>2</th>\n",
       "      <td>Arizona</td>\n",
       "      <td>4.8</td>\n",
       "      <td>6.9</td>\n",
       "      <td>2.1</td>\n",
       "      <td>851,725</td>\n",
       "    </tr>\n",
       "    <tr>\n",
       "      <th>3</th>\n",
       "      <td>Arkansas</td>\n",
       "      <td>4.2</td>\n",
       "      <td>5.1</td>\n",
       "      <td>0.9</td>\n",
       "      <td>332,949</td>\n",
       "    </tr>\n",
       "    <tr>\n",
       "      <th>4</th>\n",
       "      <td>California</td>\n",
       "      <td>4.5</td>\n",
       "      <td>9.2</td>\n",
       "      <td>4.7</td>\n",
       "      <td>3,712,203</td>\n",
       "    </tr>\n",
       "  </tbody>\n",
       "</table>\n",
       "</div>"
      ],
      "text/plain": [
       "        State  2020  2021  Rate Change       Cases\n",
       "0     Alabama   3.1   4.0          0.9    521,201 \n",
       "1      Alaska   5.4   6.9          1.5     63,061 \n",
       "2     Arizona   4.8   6.9          2.1    851,725 \n",
       "3    Arkansas   4.2   5.1          0.9    332,949 \n",
       "4  California   4.5   9.2          4.7  3,712,203 "
      ]
     },
     "execution_count": 11,
     "metadata": {},
     "output_type": "execute_result"
    }
   ],
   "source": [
    "states = pd.read_excel(\"proposal.xlsx\",header=0)\n",
    "states.head()"
   ]
  },
  {
   "cell_type": "code",
   "execution_count": 12,
   "metadata": {},
   "outputs": [],
   "source": [
    "states.dtypes\n",
    "states['Cases']= states['Cases'].str.replace(',','').astype('float')"
   ]
  },
  {
   "cell_type": "code",
   "execution_count": 13,
   "metadata": {},
   "outputs": [
    {
     "data": {
      "text/html": [
       "<div>\n",
       "<style scoped>\n",
       "    .dataframe tbody tr th:only-of-type {\n",
       "        vertical-align: middle;\n",
       "    }\n",
       "\n",
       "    .dataframe tbody tr th {\n",
       "        vertical-align: top;\n",
       "    }\n",
       "\n",
       "    .dataframe thead th {\n",
       "        text-align: right;\n",
       "    }\n",
       "</style>\n",
       "<table border=\"1\" class=\"dataframe\">\n",
       "  <thead>\n",
       "    <tr style=\"text-align: right;\">\n",
       "      <th></th>\n",
       "      <th>State</th>\n",
       "      <th>2020</th>\n",
       "      <th>2021</th>\n",
       "      <th>Rate Change</th>\n",
       "      <th>Cases</th>\n",
       "    </tr>\n",
       "  </thead>\n",
       "  <tbody>\n",
       "    <tr>\n",
       "      <th>4</th>\n",
       "      <td>California</td>\n",
       "      <td>4.5</td>\n",
       "      <td>9.2</td>\n",
       "      <td>4.7</td>\n",
       "      <td>3712203.0</td>\n",
       "    </tr>\n",
       "  </tbody>\n",
       "</table>\n",
       "</div>"
      ],
      "text/plain": [
       "        State  2020  2021  Rate Change      Cases\n",
       "4  California   4.5   9.2          4.7  3712203.0"
      ]
     },
     "execution_count": 13,
     "metadata": {},
     "output_type": "execute_result"
    }
   ],
   "source": [
    "# finding the state with the largest number of cases\n",
    "states[states['Cases']==max(states['Cases'])]"
   ]
  },
  {
   "cell_type": "code",
   "execution_count": 14,
   "metadata": {},
   "outputs": [
    {
     "data": {
      "text/html": [
       "<div>\n",
       "<style scoped>\n",
       "    .dataframe tbody tr th:only-of-type {\n",
       "        vertical-align: middle;\n",
       "    }\n",
       "\n",
       "    .dataframe tbody tr th {\n",
       "        vertical-align: top;\n",
       "    }\n",
       "\n",
       "    .dataframe thead th {\n",
       "        text-align: right;\n",
       "    }\n",
       "</style>\n",
       "<table border=\"1\" class=\"dataframe\">\n",
       "  <thead>\n",
       "    <tr style=\"text-align: right;\">\n",
       "      <th></th>\n",
       "      <th>State</th>\n",
       "      <th>2020</th>\n",
       "      <th>2021</th>\n",
       "      <th>Rate Change</th>\n",
       "      <th>Cases</th>\n",
       "    </tr>\n",
       "  </thead>\n",
       "  <tbody>\n",
       "    <tr>\n",
       "      <th>11</th>\n",
       "      <td>Hawaii</td>\n",
       "      <td>2.1</td>\n",
       "      <td>9.9</td>\n",
       "      <td>7.8</td>\n",
       "      <td>31075.0</td>\n",
       "    </tr>\n",
       "  </tbody>\n",
       "</table>\n",
       "</div>"
      ],
      "text/plain": [
       "     State  2020  2021  Rate Change    Cases\n",
       "11  Hawaii   2.1   9.9          7.8  31075.0"
      ]
     },
     "execution_count": 14,
     "metadata": {},
     "output_type": "execute_result"
    }
   ],
   "source": [
    "# finding the state with the largest change in unimployment rate\n",
    "states[states['Rate Change']==max(states['Rate Change'])]"
   ]
  },
  {
   "cell_type": "code",
   "execution_count": 15,
   "metadata": {},
   "outputs": [
    {
     "data": {
      "text/html": [
       "<div>\n",
       "<style scoped>\n",
       "    .dataframe tbody tr th:only-of-type {\n",
       "        vertical-align: middle;\n",
       "    }\n",
       "\n",
       "    .dataframe tbody tr th {\n",
       "        vertical-align: top;\n",
       "    }\n",
       "\n",
       "    .dataframe thead th {\n",
       "        text-align: right;\n",
       "    }\n",
       "</style>\n",
       "<table border=\"1\" class=\"dataframe\">\n",
       "  <thead>\n",
       "    <tr style=\"text-align: right;\">\n",
       "      <th></th>\n",
       "      <th>State</th>\n",
       "      <th>2020</th>\n",
       "      <th>2021</th>\n",
       "      <th>Rate Change</th>\n",
       "      <th>Cases</th>\n",
       "    </tr>\n",
       "  </thead>\n",
       "  <tbody>\n",
       "    <tr>\n",
       "      <th>4</th>\n",
       "      <td>California</td>\n",
       "      <td>4.5</td>\n",
       "      <td>9.2</td>\n",
       "      <td>4.7</td>\n",
       "      <td>3712203.0</td>\n",
       "    </tr>\n",
       "    <tr>\n",
       "      <th>9</th>\n",
       "      <td>Florida</td>\n",
       "      <td>3.4</td>\n",
       "      <td>5.3</td>\n",
       "      <td>1.9</td>\n",
       "      <td>2148448.0</td>\n",
       "    </tr>\n",
       "    <tr>\n",
       "      <th>32</th>\n",
       "      <td>New York</td>\n",
       "      <td>4.1</td>\n",
       "      <td>9.4</td>\n",
       "      <td>5.3</td>\n",
       "      <td>2024251.0</td>\n",
       "    </tr>\n",
       "    <tr>\n",
       "      <th>43</th>\n",
       "      <td>Texas</td>\n",
       "      <td>3.7</td>\n",
       "      <td>7.3</td>\n",
       "      <td>3.6</td>\n",
       "      <td>2847651.0</td>\n",
       "    </tr>\n",
       "  </tbody>\n",
       "</table>\n",
       "</div>"
      ],
      "text/plain": [
       "         State  2020  2021  Rate Change      Cases\n",
       "4   California   4.5   9.2          4.7  3712203.0\n",
       "9      Florida   3.4   5.3          1.9  2148448.0\n",
       "32    New York   4.1   9.4          5.3  2024251.0\n",
       "43       Texas   3.7   7.3          3.6  2847651.0"
      ]
     },
     "execution_count": 15,
     "metadata": {},
     "output_type": "execute_result"
    }
   ],
   "source": [
    "states[states['Cases']>1600000]"
   ]
  },
  {
   "cell_type": "code",
   "execution_count": 16,
   "metadata": {},
   "outputs": [
    {
     "data": {
      "image/png": "[encoded data removed]",
      "text/plain": [
       "<Figure size 720x360 with 1 Axes>"
      ]
     },
     "metadata": {
      "needs_background": "light"
     },
     "output_type": "display_data"
    },
    {
     "data": {
      "text/plain": [
       "<Figure size 432x288 with 0 Axes>"
      ]
     },
     "metadata": {},
     "output_type": "display_data"
    }
   ],
   "source": [
    "my_fig, my_ax = plt.subplots(figsize=(10,5)) \n",
    "\n",
    "\n",
    "my_kws={ 'alpha':0.6}\n",
    "\n",
    "sns.regplot(x='Cases',\n",
    "                                                  # column to put on x axis\n",
    "            y= 'Rate Change',                     # column to put on y axis \n",
    "            data=states,      # the data\n",
    "            ax = my_ax,                           # an axis object\n",
    "            color = 'green', \n",
    "            logx = False,\n",
    "            scatter_kws = my_kws,\n",
    "            ci = 90)                             # confidence interval, 0 supresses it\n",
    "\n",
    "\n",
    "sns.despine(ax = my_ax)                             \n",
    "\n",
    "# Since this is all in a matplotlib axis/figure, our usual labeling applies.  \n",
    "my_ax.set_title('COVID-19 and Unemployment rate by state')\n",
    "my_ax.set_xlabel('Cases')\n",
    "my_ax.set_ylabel('Unemployment Rate Change(%)')\n",
    "my_ax.text(3500000, 5, 'California',  style=\"italic\") \n",
    "my_ax.text(100000, 7.9, 'Hawaii',  style=\"italic\")\n",
    "my_ax.text(2800000, 3.2, 'Texas',  style=\"italic\")\n",
    "my_ax.text(1800000, 5.4, 'New York',  style=\"italic\")\n",
    "my_ax.text(2100000, 2, 'Florada',  style=\"italic\") \n",
    "plt.show()\n",
    "plt.savefig('states.svg')"
   ]
  },
  {
   "cell_type": "markdown",
   "metadata": {},
   "source": [
    "# 3. Stringency Index & Unemployment Rate"
   ]
  },
  {
   "cell_type": "code",
   "execution_count": 17,
   "metadata": {},
   "outputs": [
    {
     "data": {
      "text/html": [
       "<div>\n",
       "<style scoped>\n",
       "    .dataframe tbody tr th:only-of-type {\n",
       "        vertical-align: middle;\n",
       "    }\n",
       "\n",
       "    .dataframe tbody tr th {\n",
       "        vertical-align: top;\n",
       "    }\n",
       "\n",
       "    .dataframe thead th {\n",
       "        text-align: right;\n",
       "    }\n",
       "</style>\n",
       "<table border=\"1\" class=\"dataframe\">\n",
       "  <thead>\n",
       "    <tr style=\"text-align: right;\">\n",
       "      <th>country_name</th>\n",
       "      <th>United States</th>\n",
       "    </tr>\n",
       "  </thead>\n",
       "  <tbody>\n",
       "    <tr>\n",
       "      <th>2020-01-01</th>\n",
       "      <td>0</td>\n",
       "    </tr>\n",
       "    <tr>\n",
       "      <th>2020-01-02</th>\n",
       "      <td>0</td>\n",
       "    </tr>\n",
       "    <tr>\n",
       "      <th>2020-01-03</th>\n",
       "      <td>0</td>\n",
       "    </tr>\n",
       "    <tr>\n",
       "      <th>2020-01-04</th>\n",
       "      <td>0</td>\n",
       "    </tr>\n",
       "    <tr>\n",
       "      <th>2020-01-05</th>\n",
       "      <td>0</td>\n",
       "    </tr>\n",
       "  </tbody>\n",
       "</table>\n",
       "</div>"
      ],
      "text/plain": [
       "country_name  United States\n",
       "2020-01-01                0\n",
       "2020-01-02                0\n",
       "2020-01-03                0\n",
       "2020-01-04                0\n",
       "2020-01-05                0"
      ]
     },
     "execution_count": 17,
     "metadata": {},
     "output_type": "execute_result"
    }
   ],
   "source": [
    "stringency_index = pd.read_excel('OxCGRT_timeseries_all.xlsx', \n",
    "                                 sheet_name = 'stringency_index',\n",
    "                                 header = 0)\n",
    "\n",
    "#keep only US stringency index data\n",
    "stringency_index = stringency_index[stringency_index['country_name'] == 'United States']\n",
    "\n",
    "#organize the data frame\n",
    "stringency_index = stringency_index.transpose()\n",
    "stringency_index = stringency_index[1:]\n",
    "new_header = stringency_index.iloc[0]\n",
    "stringency_index = stringency_index[1:]\n",
    "stringency_index.columns = new_header\n",
    "stringency_index.index = pd.to_datetime(stringency_index.index)\n",
    "\n",
    "#keep only data from Jan. 1st, 2020 to Feb. 1st, 2021\n",
    "stringency_index = stringency_index[:398]\n",
    "stringency_index['United States'] = stringency_index['United States'].astype(int)\n",
    "stringency_index.head()"
   ]
  },
  {
   "cell_type": "code",
   "execution_count": 18,
   "metadata": {},
   "outputs": [
    {
     "data": {
      "text/plain": [
       "[0.0,\n",
       " 4.827586206896552,\n",
       " 45.354838709677416,\n",
       " 72.0,\n",
       " 72.0,\n",
       " 69.86666666666666,\n",
       " 67.61290322580645,\n",
       " 67.0,\n",
       " 63.833333333333336,\n",
       " 63.67741935483871,\n",
       " 69.2,\n",
       " 71.12903225806451,\n",
       " 71.0,\n",
       " 71.0]"
      ]
     },
     "execution_count": 18,
     "metadata": {},
     "output_type": "execute_result"
    }
   ],
   "source": [
    "#get monthly average stringency index\n",
    "stringency_index_m = stringency_index.resample('m').mean()\n",
    "stringency_index_m = stringency_index_m['United States'].tolist()\n",
    "stringency_index_m"
   ]
  },
  {
   "cell_type": "code",
   "execution_count": 19,
   "metadata": {},
   "outputs": [],
   "source": [
    "#merge unemployment rate with stringency index\n",
    "unemp = pd.read_excel('UNRATE.xls', sheet_name='Sheet1')\n",
    "unemp.set_index('date', inplace=True)\n",
    "unemp['stringency_index'] = stringency_index_m"
   ]
  },
  {
   "cell_type": "code",
   "execution_count": 20,
   "metadata": {},
   "outputs": [
    {
     "data": {
      "image/png": "[encoded data removed]",
      "text/plain": [
       "<Figure size 720x360 with 1 Axes>"
      ]
     },
     "metadata": {
      "needs_background": "light"
     },
     "output_type": "display_data"
    },
    {
     "data": {
      "text/plain": [
       "<Figure size 432x288 with 0 Axes>"
      ]
     },
     "metadata": {},
     "output_type": "display_data"
    }
   ],
   "source": [
    "fig, ax = plt.subplots(figsize=(10,5))\n",
    "\n",
    "sns.regplot(x='stringency_index',\n",
    "            y='unemployment_rate', \n",
    "            data=unemp,\n",
    "            ax=ax,\n",
    "            color='purple',\n",
    "            ci=95)\n",
    "\n",
    "sns.despine(ax=ax)\n",
    "\n",
    "ax.annotate('March, 2020', \n",
    "            xy=(45.4, 4.4),\n",
    "            xytext=(35, 4), \n",
    "            arrowprops={'facecolor':'black',  'arrowstyle':'->'})\n",
    "\n",
    "ax.annotate('April, 2020', \n",
    "            xy=(72, 14.8),\n",
    "            xytext=(62, 14), \n",
    "            arrowprops={'facecolor':'black',  'arrowstyle':'->'})\n",
    "\n",
    "plt.xlim(0,75)\n",
    "plt.ylim(-15, 15)\n",
    "\n",
    "ax.set_title('Unemployment Rate and Stringency Index')\n",
    "ax.set_xlabel('Stringency Index')\n",
    "ax.set_ylabel('Unemployment Rate (%)')\n",
    "\n",
    "\n",
    "plt.show()\n",
    "plt.savefig('stringency1.svg')"
   ]
  },
  {
   "cell_type": "code",
   "execution_count": 21,
   "metadata": {},
   "outputs": [
    {
     "data": {
      "image/png": "[encoded data removed]",
      "text/plain": [
       "<Figure size 864x360 with 2 Axes>"
      ]
     },
     "metadata": {
      "needs_background": "light"
     },
     "output_type": "display_data"
    },
    {
     "data": {
      "text/plain": [
       "<Figure size 432x288 with 0 Axes>"
      ]
     },
     "metadata": {},
     "output_type": "display_data"
    }
   ],
   "source": [
    "fig, ax1 = plt.subplots(figsize=(12,5))\n",
    "\n",
    "ax1.plot(unemp.index, 'stringency_index', data=unemp, color='black', linestyle='dotted', label='Stringency Index')\n",
    "ax1.set_ylabel('Stringency Index', color='black')\n",
    "\n",
    "ax2 = ax1.twinx() \n",
    "ax2.plot(unemp.index, 'unemployment_rate', data=unemp, color='blue', linestyle='-.', label='Unemployment Rate')\n",
    "ax2.set_ylabel('Unemployment Rate (%)', color='blue')\n",
    "\n",
    "ax1.set_title('Stringency Index and Unemployment Rate')\n",
    "\n",
    "plt.show()\n",
    "plt.savefig('stringency2.svg')"
   ]
  },
  {
   "cell_type": "markdown",
   "metadata": {},
   "source": [
    "# 4. Race and Unemployment Rate"
   ]
  },
  {
   "cell_type": "code",
   "execution_count": 22,
   "metadata": {},
   "outputs": [
    {
     "data": {
      "text/html": [
       "<div>\n",
       "<style scoped>\n",
       "    .dataframe tbody tr th:only-of-type {\n",
       "        vertical-align: middle;\n",
       "    }\n",
       "\n",
       "    .dataframe tbody tr th {\n",
       "        vertical-align: top;\n",
       "    }\n",
       "\n",
       "    .dataframe thead th {\n",
       "        text-align: right;\n",
       "    }\n",
       "</style>\n",
       "<table border=\"1\" class=\"dataframe\">\n",
       "  <thead>\n",
       "    <tr style=\"text-align: right;\">\n",
       "      <th></th>\n",
       "      <th>Black &amp; African American</th>\n",
       "      <th>White</th>\n",
       "      <th>Asian</th>\n",
       "      <th>Hispanic &amp; Latino</th>\n",
       "    </tr>\n",
       "    <tr>\n",
       "      <th>date</th>\n",
       "      <th></th>\n",
       "      <th></th>\n",
       "      <th></th>\n",
       "      <th></th>\n",
       "    </tr>\n",
       "  </thead>\n",
       "  <tbody>\n",
       "    <tr>\n",
       "      <th>1/1/20</th>\n",
       "      <td>6.1</td>\n",
       "      <td>3.0</td>\n",
       "      <td>3.1</td>\n",
       "      <td>4.3</td>\n",
       "    </tr>\n",
       "    <tr>\n",
       "      <th>2/1/20</th>\n",
       "      <td>6.0</td>\n",
       "      <td>3.0</td>\n",
       "      <td>2.4</td>\n",
       "      <td>4.4</td>\n",
       "    </tr>\n",
       "    <tr>\n",
       "      <th>3/1/20</th>\n",
       "      <td>6.8</td>\n",
       "      <td>3.9</td>\n",
       "      <td>4.1</td>\n",
       "      <td>6.0</td>\n",
       "    </tr>\n",
       "    <tr>\n",
       "      <th>4/1/20</th>\n",
       "      <td>16.7</td>\n",
       "      <td>14.1</td>\n",
       "      <td>14.5</td>\n",
       "      <td>18.9</td>\n",
       "    </tr>\n",
       "    <tr>\n",
       "      <th>5/1/20</th>\n",
       "      <td>16.7</td>\n",
       "      <td>12.3</td>\n",
       "      <td>14.9</td>\n",
       "      <td>17.6</td>\n",
       "    </tr>\n",
       "    <tr>\n",
       "      <th>6/1/20</th>\n",
       "      <td>15.3</td>\n",
       "      <td>10.1</td>\n",
       "      <td>13.9</td>\n",
       "      <td>14.5</td>\n",
       "    </tr>\n",
       "    <tr>\n",
       "      <th>7/1/20</th>\n",
       "      <td>14.4</td>\n",
       "      <td>9.2</td>\n",
       "      <td>11.9</td>\n",
       "      <td>12.7</td>\n",
       "    </tr>\n",
       "    <tr>\n",
       "      <th>8/1/20</th>\n",
       "      <td>12.8</td>\n",
       "      <td>7.4</td>\n",
       "      <td>10.6</td>\n",
       "      <td>10.5</td>\n",
       "    </tr>\n",
       "    <tr>\n",
       "      <th>9/1/20</th>\n",
       "      <td>12.0</td>\n",
       "      <td>7.0</td>\n",
       "      <td>8.8</td>\n",
       "      <td>10.3</td>\n",
       "    </tr>\n",
       "    <tr>\n",
       "      <th>10/1/20</th>\n",
       "      <td>10.8</td>\n",
       "      <td>6.0</td>\n",
       "      <td>7.6</td>\n",
       "      <td>8.8</td>\n",
       "    </tr>\n",
       "    <tr>\n",
       "      <th>11/1/20</th>\n",
       "      <td>10.3</td>\n",
       "      <td>5.9</td>\n",
       "      <td>6.7</td>\n",
       "      <td>8.4</td>\n",
       "    </tr>\n",
       "    <tr>\n",
       "      <th>12/1/20</th>\n",
       "      <td>9.9</td>\n",
       "      <td>6.0</td>\n",
       "      <td>5.9</td>\n",
       "      <td>9.3</td>\n",
       "    </tr>\n",
       "    <tr>\n",
       "      <th>1/1/21</th>\n",
       "      <td>9.2</td>\n",
       "      <td>5.7</td>\n",
       "      <td>6.6</td>\n",
       "      <td>8.6</td>\n",
       "    </tr>\n",
       "    <tr>\n",
       "      <th>2/1/21</th>\n",
       "      <td>9.9</td>\n",
       "      <td>5.6</td>\n",
       "      <td>5.1</td>\n",
       "      <td>8.5</td>\n",
       "    </tr>\n",
       "  </tbody>\n",
       "</table>\n",
       "</div>"
      ],
      "text/plain": [
       "         Black & African American  White  Asian  Hispanic & Latino\n",
       "date                                                              \n",
       "1/1/20                        6.1    3.0    3.1                4.3\n",
       "2/1/20                        6.0    3.0    2.4                4.4\n",
       "3/1/20                        6.8    3.9    4.1                6.0\n",
       "4/1/20                       16.7   14.1   14.5               18.9\n",
       "5/1/20                       16.7   12.3   14.9               17.6\n",
       "6/1/20                       15.3   10.1   13.9               14.5\n",
       "7/1/20                       14.4    9.2   11.9               12.7\n",
       "8/1/20                       12.8    7.4   10.6               10.5\n",
       "9/1/20                       12.0    7.0    8.8               10.3\n",
       "10/1/20                      10.8    6.0    7.6                8.8\n",
       "11/1/20                      10.3    5.9    6.7                8.4\n",
       "12/1/20                       9.9    6.0    5.9                9.3\n",
       "1/1/21                        9.2    5.7    6.6                8.6\n",
       "2/1/21                        9.9    5.6    5.1                8.5"
      ]
     },
     "execution_count": 22,
     "metadata": {},
     "output_type": "execute_result"
    }
   ],
   "source": [
    "race = pd.read_csv('Unem_race.csv', index_col=0)\n",
    "race=race[:-1]\n",
    "race"
   ]
  },
  {
   "cell_type": "code",
   "execution_count": 23,
   "metadata": {},
   "outputs": [
    {
     "data": {
      "image/png": "[encoded data removed]",
      "text/plain": [
       "<Figure size 1152x576 with 1 Axes>"
      ]
     },
     "metadata": {
      "needs_background": "light"
     },
     "output_type": "display_data"
    },
    {
     "data": {
      "text/plain": [
       "<Figure size 432x288 with 0 Axes>"
      ]
     },
     "metadata": {},
     "output_type": "display_data"
    }
   ],
   "source": [
    "fig, ax = plt.subplots(figsize=(16,8)) \n",
    "ax.plot(race.index, race['Black & African American'],\n",
    "        color='red', alpha = 0.8, linestyle = '-.', label = 'Black & African American')  \n",
    "ax.plot(race.index, race['White'],\n",
    "        color='blue', alpha = 0.8, linestyle = '-', label = 'White')\n",
    "ax.plot(race.index, race['Asian'],\n",
    "        color='purple', alpha = 0.8, linestyle = ':', label = 'Asian')\n",
    "ax.plot(race.index, race['Hispanic & Latino'],\n",
    "        color='green', alpha = 0.8, linestyle = '--', label = 'Hispanic & Latino')\n",
    "\n",
    "ax.set_xlabel('date', fontsize = 14) \n",
    "ax.set_ylabel('unemployment rate', fontsize = 14)  \n",
    "\n",
    "ax.set_title('Unemployment rate of different races in U.S.', fontsize = 18)\n",
    "\n",
    "ax.spines['right'].set_visible(False) # get ride of the line on the right\n",
    "ax.spines['top'].set_visible(False)   # get rid of the line on top\n",
    "\n",
    "ax.legend(frameon=False, fontsize=14)\n",
    "\n",
    "\n",
    "\n",
    "plt.show()\n",
    "plt.savefig('unemp&races.svg')"
   ]
  },
  {
   "cell_type": "code",
   "execution_count": 24,
   "metadata": {},
   "outputs": [
    {
     "data": {
      "text/html": [
       "<div>\n",
       "<style scoped>\n",
       "    .dataframe tbody tr th:only-of-type {\n",
       "        vertical-align: middle;\n",
       "    }\n",
       "\n",
       "    .dataframe tbody tr th {\n",
       "        vertical-align: top;\n",
       "    }\n",
       "\n",
       "    .dataframe thead th {\n",
       "        text-align: right;\n",
       "    }\n",
       "</style>\n",
       "<table border=\"1\" class=\"dataframe\">\n",
       "  <thead>\n",
       "    <tr style=\"text-align: right;\">\n",
       "      <th></th>\n",
       "      <th>Percent of cases</th>\n",
       "      <th>Count of cases</th>\n",
       "      <th>Percent of US population</th>\n",
       "    </tr>\n",
       "    <tr>\n",
       "      <th>Race/Ethnicity</th>\n",
       "      <th></th>\n",
       "      <th></th>\n",
       "      <th></th>\n",
       "    </tr>\n",
       "  </thead>\n",
       "  <tbody>\n",
       "    <tr>\n",
       "      <th>Hispanic/Latino</th>\n",
       "      <td>29.2</td>\n",
       "      <td>4566001</td>\n",
       "      <td>18.450</td>\n",
       "    </tr>\n",
       "    <tr>\n",
       "      <th>Asian</th>\n",
       "      <td>3.3</td>\n",
       "      <td>509366</td>\n",
       "      <td>5.760</td>\n",
       "    </tr>\n",
       "    <tr>\n",
       "      <th>Black</th>\n",
       "      <td>12.1</td>\n",
       "      <td>1882738</td>\n",
       "      <td>13.280</td>\n",
       "    </tr>\n",
       "    <tr>\n",
       "      <th>White</th>\n",
       "      <td>50.0</td>\n",
       "      <td>7816115</td>\n",
       "      <td>60.110</td>\n",
       "    </tr>\n",
       "    <tr>\n",
       "      <th>Others</th>\n",
       "      <td>5.6</td>\n",
       "      <td>867663</td>\n",
       "      <td>2.402</td>\n",
       "    </tr>\n",
       "  </tbody>\n",
       "</table>\n",
       "</div>"
      ],
      "text/plain": [
       "                 Percent of cases  Count of cases  Percent of US population\n",
       "Race/Ethnicity                                                             \n",
       "Hispanic/Latino              29.2         4566001                    18.450\n",
       "Asian                         3.3          509366                     5.760\n",
       "Black                        12.1         1882738                    13.280\n",
       "White                        50.0         7816115                    60.110\n",
       "Others                        5.6          867663                     2.402"
      ]
     },
     "execution_count": 24,
     "metadata": {},
     "output_type": "execute_result"
    }
   ],
   "source": [
    "race_case = pd.read_csv('cases_by_race_ethnicity__all_age_groups.csv', header = 2, index_col = 0)\n",
    "race_case"
   ]
  },
  {
   "cell_type": "code",
   "execution_count": 25,
   "metadata": {},
   "outputs": [
    {
     "data": {
      "image/png": "[encoded data removed]",
      "text/plain": [
       "<Figure size 864x432 with 1 Axes>"
      ]
     },
     "metadata": {
      "needs_background": "light"
     },
     "output_type": "display_data"
    },
    {
     "data": {
      "text/plain": [
       "<Figure size 432x288 with 0 Axes>"
      ]
     },
     "metadata": {},
     "output_type": "display_data"
    }
   ],
   "source": [
    "fig, ax = plt.subplots(figsize=(12,6)) \n",
    "New_Colors = ['blue','purple','teal','red','orange']\n",
    "ax.barh(race_case.index, race_case['Percent of cases'], color=New_Colors)\n",
    "\n",
    "ax.set_xlabel('Percent of cases(%)', fontsize=14)\n",
    "ax.set_title('Cases by Race/Ethnicity', fontsize=20)\n",
    "\n",
    "ax.spines['right'].set_visible(False) \n",
    "ax.spines['top'].set_visible(False)\n",
    "\n",
    "plt.show()\n",
    "plt.savefig('cases&race.svg')"
   ]
  },
  {
   "cell_type": "code",
   "execution_count": 26,
   "metadata": {},
   "outputs": [
    {
     "data": {
      "text/html": [
       "<div>\n",
       "<style scoped>\n",
       "    .dataframe tbody tr th:only-of-type {\n",
       "        vertical-align: middle;\n",
       "    }\n",
       "\n",
       "    .dataframe tbody tr th {\n",
       "        vertical-align: top;\n",
       "    }\n",
       "\n",
       "    .dataframe thead th {\n",
       "        text-align: right;\n",
       "    }\n",
       "</style>\n",
       "<table border=\"1\" class=\"dataframe\">\n",
       "  <thead>\n",
       "    <tr style=\"text-align: right;\">\n",
       "      <th></th>\n",
       "      <th>Percent of deaths</th>\n",
       "      <th>Count of deaths</th>\n",
       "      <th>Percent of US population</th>\n",
       "    </tr>\n",
       "    <tr>\n",
       "      <th>Race/Ethnicity</th>\n",
       "      <th></th>\n",
       "      <th></th>\n",
       "      <th></th>\n",
       "    </tr>\n",
       "  </thead>\n",
       "  <tbody>\n",
       "    <tr>\n",
       "      <th>Hispanic/Latino</th>\n",
       "      <td>18.9</td>\n",
       "      <td>69848</td>\n",
       "      <td>18.450</td>\n",
       "    </tr>\n",
       "    <tr>\n",
       "      <th>Asian</th>\n",
       "      <td>4.0</td>\n",
       "      <td>14833</td>\n",
       "      <td>5.760</td>\n",
       "    </tr>\n",
       "    <tr>\n",
       "      <th>Black</th>\n",
       "      <td>14.5</td>\n",
       "      <td>53306</td>\n",
       "      <td>13.280</td>\n",
       "    </tr>\n",
       "    <tr>\n",
       "      <th>White</th>\n",
       "      <td>58.5</td>\n",
       "      <td>215642</td>\n",
       "      <td>60.110</td>\n",
       "    </tr>\n",
       "    <tr>\n",
       "      <th>Others</th>\n",
       "      <td>4.1</td>\n",
       "      <td>15067</td>\n",
       "      <td>2.402</td>\n",
       "    </tr>\n",
       "  </tbody>\n",
       "</table>\n",
       "</div>"
      ],
      "text/plain": [
       "                 Percent of deaths  Count of deaths  Percent of US population\n",
       "Race/Ethnicity                                                               \n",
       "Hispanic/Latino               18.9            69848                    18.450\n",
       "Asian                          4.0            14833                     5.760\n",
       "Black                         14.5            53306                    13.280\n",
       "White                         58.5           215642                    60.110\n",
       "Others                         4.1            15067                     2.402"
      ]
     },
     "execution_count": 26,
     "metadata": {},
     "output_type": "execute_result"
    }
   ],
   "source": [
    "race_death = pd.read_csv('deaths_by_race_ethnicity__all_age_groups.csv', header = 2, index_col = 0)\n",
    "race_death"
   ]
  },
  {
   "cell_type": "code",
   "execution_count": 27,
   "metadata": {},
   "outputs": [
    {
     "data": {
      "image/png": "[encoded data removed]",
      "text/plain": [
       "<Figure size 864x432 with 1 Axes>"
      ]
     },
     "metadata": {
      "needs_background": "light"
     },
     "output_type": "display_data"
    },
    {
     "data": {
      "text/plain": [
       "<Figure size 432x288 with 0 Axes>"
      ]
     },
     "metadata": {},
     "output_type": "display_data"
    }
   ],
   "source": [
    "fig, ax = plt.subplots(figsize=(12,6)) \n",
    "New_Colors = ['blue','purple','teal','red','orange']\n",
    "ax.barh(race_death.index, race_death['Percent of deaths'], color=New_Colors)\n",
    "\n",
    "ax.set_xlabel('Percent of deaths(%)', fontsize=14)\n",
    "ax.set_title('Deaths by Race/Ethnicity', fontsize=20)\n",
    "\n",
    "ax.spines['right'].set_visible(False) \n",
    "ax.spines['top'].set_visible(False)\n",
    "plt.show()\n",
    "plt.savefig('death&race.svg')"
   ]
  },
  {
   "cell_type": "markdown",
   "metadata": {},
   "source": [
    "# 5. Regression Analysis "
   ]
  },
  {
   "cell_type": "code",
   "execution_count": 28,
   "metadata": {},
   "outputs": [],
   "source": [
    "#merge case/rate/stringency with Unem_race\n",
    "unemp = pd.read_excel('UNRATE.xls', sheet_name='Sheet1')\n",
    "unemp.set_index('date', inplace=True)\n",
    "unemp['stringency_index'] = stringency_index_m"
   ]
  },
  {
   "cell_type": "code",
   "execution_count": 29,
   "metadata": {},
   "outputs": [
    {
     "data": {
      "text/html": [
       "<div>\n",
       "<style scoped>\n",
       "    .dataframe tbody tr th:only-of-type {\n",
       "        vertical-align: middle;\n",
       "    }\n",
       "\n",
       "    .dataframe tbody tr th {\n",
       "        vertical-align: top;\n",
       "    }\n",
       "\n",
       "    .dataframe thead th {\n",
       "        text-align: right;\n",
       "    }\n",
       "</style>\n",
       "<table border=\"1\" class=\"dataframe\">\n",
       "  <thead>\n",
       "    <tr style=\"text-align: right;\">\n",
       "      <th></th>\n",
       "      <th>unemployment_rate</th>\n",
       "      <th>new_cases</th>\n",
       "      <th>stringency_index</th>\n",
       "      <th>Black</th>\n",
       "      <th>White</th>\n",
       "      <th>Asian</th>\n",
       "      <th>Hispanic</th>\n",
       "    </tr>\n",
       "    <tr>\n",
       "      <th>date</th>\n",
       "      <th></th>\n",
       "      <th></th>\n",
       "      <th></th>\n",
       "      <th></th>\n",
       "      <th></th>\n",
       "      <th></th>\n",
       "      <th></th>\n",
       "    </tr>\n",
       "  </thead>\n",
       "  <tbody>\n",
       "    <tr>\n",
       "      <th>2020-01-01</th>\n",
       "      <td>3.5</td>\n",
       "      <td>7</td>\n",
       "      <td>0.000000</td>\n",
       "      <td>6.1</td>\n",
       "      <td>3.0</td>\n",
       "      <td>3.1</td>\n",
       "      <td>4.3</td>\n",
       "    </tr>\n",
       "    <tr>\n",
       "      <th>2020-02-01</th>\n",
       "      <td>3.5</td>\n",
       "      <td>19</td>\n",
       "      <td>4.827586</td>\n",
       "      <td>6.0</td>\n",
       "      <td>3.0</td>\n",
       "      <td>2.4</td>\n",
       "      <td>4.4</td>\n",
       "    </tr>\n",
       "    <tr>\n",
       "      <th>2020-03-01</th>\n",
       "      <td>4.4</td>\n",
       "      <td>185786</td>\n",
       "      <td>45.354839</td>\n",
       "      <td>6.8</td>\n",
       "      <td>3.9</td>\n",
       "      <td>4.1</td>\n",
       "      <td>6.0</td>\n",
       "    </tr>\n",
       "    <tr>\n",
       "      <th>2020-04-01</th>\n",
       "      <td>14.8</td>\n",
       "      <td>875927</td>\n",
       "      <td>72.000000</td>\n",
       "      <td>16.7</td>\n",
       "      <td>14.1</td>\n",
       "      <td>14.5</td>\n",
       "      <td>18.9</td>\n",
       "    </tr>\n",
       "    <tr>\n",
       "      <th>2020-05-01</th>\n",
       "      <td>13.3</td>\n",
       "      <td>725468</td>\n",
       "      <td>72.000000</td>\n",
       "      <td>16.7</td>\n",
       "      <td>12.3</td>\n",
       "      <td>14.9</td>\n",
       "      <td>17.6</td>\n",
       "    </tr>\n",
       "  </tbody>\n",
       "</table>\n",
       "</div>"
      ],
      "text/plain": [
       "            unemployment_rate  new_cases  stringency_index  Black  White  \\\n",
       "date                                                                       \n",
       "2020-01-01                3.5          7          0.000000    6.1    3.0   \n",
       "2020-02-01                3.5         19          4.827586    6.0    3.0   \n",
       "2020-03-01                4.4     185786         45.354839    6.8    3.9   \n",
       "2020-04-01               14.8     875927         72.000000   16.7   14.1   \n",
       "2020-05-01               13.3     725468         72.000000   16.7   12.3   \n",
       "\n",
       "            Asian  Hispanic  \n",
       "date                         \n",
       "2020-01-01    3.1       4.3  \n",
       "2020-02-01    2.4       4.4  \n",
       "2020-03-01    4.1       6.0  \n",
       "2020-04-01   14.5      18.9  \n",
       "2020-05-01   14.9      17.6  "
      ]
     },
     "execution_count": 29,
     "metadata": {},
     "output_type": "execute_result"
    }
   ],
   "source": [
    "all=unemp\n",
    "all['Black']=race['Black & African American']\n",
    "all['White']=race['White']\n",
    "all['Asian']=race['Asian']\n",
    "all['Hispanic']=race['Hispanic & Latino']\n",
    "all.head()"
   ]
  },
  {
   "cell_type": "code",
   "execution_count": 30,
   "metadata": {},
   "outputs": [
    {
     "data": {
      "text/plain": [
       "unemployment_rate    float64\n",
       "new_cases              int64\n",
       "stringency_index     float64\n",
       "Black                float64\n",
       "White                float64\n",
       "Asian                float64\n",
       "Hispanic             float64\n",
       "dtype: object"
      ]
     },
     "execution_count": 30,
     "metadata": {},
     "output_type": "execute_result"
    }
   ],
   "source": [
    "all.dtypes"
   ]
  },
  {
   "cell_type": "code",
   "execution_count": 31,
   "metadata": {},
   "outputs": [
    {
     "name": "stdout",
     "output_type": "stream",
     "text": [
      "                            OLS Regression Results                            \n",
      "==============================================================================\n",
      "Dep. Variable:      unemployment_rate   R-squared:                       1.000\n",
      "Model:                            OLS   Adj. R-squared:                  1.000\n",
      "Method:                 Least Squares   F-statistic:                     8448.\n",
      "Date:                Fri, 30 Apr 2021   Prob (F-statistic):           1.16e-14\n",
      "Time:                        23:28:41   Log-Likelihood:                 23.407\n",
      "No. Observations:                  14   AIC:                            -34.81\n",
      "Df Residuals:                       8   BIC:                            -30.98\n",
      "Df Model:                           5                                         \n",
      "Covariance Type:            nonrobust                                         \n",
      "====================================================================================\n",
      "                       coef    std err          t      P>|t|      [0.025      0.975]\n",
      "------------------------------------------------------------------------------------\n",
      "Intercept            0.0932      0.140      0.664      0.525      -0.230       0.417\n",
      "stringency_index -9.087e-05      0.001     -0.071      0.945      -0.003       0.003\n",
      "Black                0.1171      0.037      3.153      0.014       0.031       0.203\n",
      "White                0.8968      0.076     11.817      0.000       0.722       1.072\n",
      "Asian                0.0390      0.026      1.522      0.167      -0.020       0.098\n",
      "Hispanic            -0.0231      0.059     -0.391      0.706      -0.159       0.113\n",
      "==============================================================================\n",
      "Omnibus:                        0.795   Durbin-Watson:                   2.024\n",
      "Prob(Omnibus):                  0.672   Jarque-Bera (JB):                0.637\n",
      "Skew:                          -0.054   Prob(JB):                        0.727\n",
      "Kurtosis:                       1.960   Cond. No.                         607.\n",
      "==============================================================================\n",
      "\n",
      "Notes:\n",
      "[1] Standard Errors assume that the covariance matrix of the errors is correctly specified.\n"
     ]
    },
    {
     "name": "stderr",
     "output_type": "stream",
     "text": [
      "/opt/anaconda3/lib/python3.8/site-packages/scipy/stats/stats.py:1603: UserWarning: kurtosistest only valid for n>=20 ... continuing anyway, n=14\n",
      "  warnings.warn(\"kurtosistest only valid for n>=20 ... continuing \"\n"
     ]
    }
   ],
   "source": [
    "#regression analysis using data from 2020/0101 to 2021/02021\n",
    "res = smf.ols(formula = 'unemployment_rate ~ stringency_index +Black + White + Asian + Hispanic', data=all).fit()\n",
    "print(res.summary())"
   ]
  },
  {
   "cell_type": "code",
   "execution_count": 32,
   "metadata": {},
   "outputs": [
    {
     "data": {
      "text/html": [
       "<div>\n",
       "<style scoped>\n",
       "    .dataframe tbody tr th:only-of-type {\n",
       "        vertical-align: middle;\n",
       "    }\n",
       "\n",
       "    .dataframe tbody tr th {\n",
       "        vertical-align: top;\n",
       "    }\n",
       "\n",
       "    .dataframe thead th {\n",
       "        text-align: right;\n",
       "    }\n",
       "</style>\n",
       "<table border=\"1\" class=\"dataframe\">\n",
       "  <thead>\n",
       "    <tr style=\"text-align: right;\">\n",
       "      <th></th>\n",
       "      <th>unemployment_rate</th>\n",
       "      <th>new_cases</th>\n",
       "      <th>stringency_index</th>\n",
       "      <th>Black</th>\n",
       "      <th>White</th>\n",
       "      <th>Asian</th>\n",
       "      <th>Hispanic</th>\n",
       "    </tr>\n",
       "    <tr>\n",
       "      <th>date</th>\n",
       "      <th></th>\n",
       "      <th></th>\n",
       "      <th></th>\n",
       "      <th></th>\n",
       "      <th></th>\n",
       "      <th></th>\n",
       "      <th></th>\n",
       "    </tr>\n",
       "  </thead>\n",
       "  <tbody>\n",
       "    <tr>\n",
       "      <th>2020-07-01</th>\n",
       "      <td>10.2</td>\n",
       "      <td>1925041</td>\n",
       "      <td>67.612903</td>\n",
       "      <td>14.4</td>\n",
       "      <td>9.2</td>\n",
       "      <td>11.9</td>\n",
       "      <td>12.7</td>\n",
       "    </tr>\n",
       "    <tr>\n",
       "      <th>2020-08-01</th>\n",
       "      <td>8.4</td>\n",
       "      <td>1473779</td>\n",
       "      <td>67.000000</td>\n",
       "      <td>12.8</td>\n",
       "      <td>7.4</td>\n",
       "      <td>10.6</td>\n",
       "      <td>10.5</td>\n",
       "    </tr>\n",
       "    <tr>\n",
       "      <th>2020-09-01</th>\n",
       "      <td>7.8</td>\n",
       "      <td>1210965</td>\n",
       "      <td>63.833333</td>\n",
       "      <td>12.0</td>\n",
       "      <td>7.0</td>\n",
       "      <td>8.8</td>\n",
       "      <td>10.3</td>\n",
       "    </tr>\n",
       "    <tr>\n",
       "      <th>2020-10-01</th>\n",
       "      <td>6.9</td>\n",
       "      <td>1917316</td>\n",
       "      <td>63.677419</td>\n",
       "      <td>10.8</td>\n",
       "      <td>6.0</td>\n",
       "      <td>7.6</td>\n",
       "      <td>8.8</td>\n",
       "    </tr>\n",
       "    <tr>\n",
       "      <th>2020-11-01</th>\n",
       "      <td>6.7</td>\n",
       "      <td>4437448</td>\n",
       "      <td>69.200000</td>\n",
       "      <td>10.3</td>\n",
       "      <td>5.9</td>\n",
       "      <td>6.7</td>\n",
       "      <td>8.4</td>\n",
       "    </tr>\n",
       "  </tbody>\n",
       "</table>\n",
       "</div>"
      ],
      "text/plain": [
       "            unemployment_rate  new_cases  stringency_index  Black  White  \\\n",
       "date                                                                       \n",
       "2020-07-01               10.2    1925041         67.612903   14.4    9.2   \n",
       "2020-08-01                8.4    1473779         67.000000   12.8    7.4   \n",
       "2020-09-01                7.8    1210965         63.833333   12.0    7.0   \n",
       "2020-10-01                6.9    1917316         63.677419   10.8    6.0   \n",
       "2020-11-01                6.7    4437448         69.200000   10.3    5.9   \n",
       "\n",
       "            Asian  Hispanic  \n",
       "date                         \n",
       "2020-07-01   11.9      12.7  \n",
       "2020-08-01   10.6      10.5  \n",
       "2020-09-01    8.8      10.3  \n",
       "2020-10-01    7.6       8.8  \n",
       "2020-11-01    6.7       8.4  "
      ]
     },
     "execution_count": 32,
     "metadata": {},
     "output_type": "execute_result"
    }
   ],
   "source": [
    "all1=all[6:14]\n",
    "all1.head()"
   ]
  },
  {
   "cell_type": "code",
   "execution_count": 33,
   "metadata": {},
   "outputs": [
    {
     "name": "stdout",
     "output_type": "stream",
     "text": [
      "                            OLS Regression Results                            \n",
      "==============================================================================\n",
      "Dep. Variable:      unemployment_rate   R-squared:                       1.000\n",
      "Model:                            OLS   Adj. R-squared:                  1.000\n",
      "Method:                 Least Squares   F-statistic:                 1.706e+04\n",
      "Date:                Fri, 30 Apr 2021   Prob (F-statistic):           7.70e-19\n",
      "Time:                        23:28:41   Log-Likelihood:                 23.189\n",
      "No. Observations:                  14   AIC:                            -38.38\n",
      "Df Residuals:                      10   BIC:                            -35.82\n",
      "Df Model:                           3                                         \n",
      "Covariance Type:            nonrobust                                         \n",
      "==============================================================================\n",
      "                 coef    std err          t      P>|t|      [0.025      0.975]\n",
      "------------------------------------------------------------------------------\n",
      "Intercept      0.0997      0.113      0.885      0.397      -0.151       0.351\n",
      "White          0.8699      0.018     48.123      0.000       0.830       0.910\n",
      "Black          0.1102      0.027      4.067      0.002       0.050       0.171\n",
      "Asian          0.0415      0.021      1.973      0.077      -0.005       0.088\n",
      "==============================================================================\n",
      "Omnibus:                        1.030   Durbin-Watson:                   1.970\n",
      "Prob(Omnibus):                  0.598   Jarque-Bera (JB):                0.755\n",
      "Skew:                          -0.208   Prob(JB):                        0.686\n",
      "Kurtosis:                       1.941   Cond. No.                         134.\n",
      "==============================================================================\n",
      "\n",
      "Notes:\n",
      "[1] Standard Errors assume that the covariance matrix of the errors is correctly specified.\n"
     ]
    },
    {
     "name": "stderr",
     "output_type": "stream",
     "text": [
      "/opt/anaconda3/lib/python3.8/site-packages/scipy/stats/stats.py:1603: UserWarning: kurtosistest only valid for n>=20 ... continuing anyway, n=14\n",
      "  warnings.warn(\"kurtosistest only valid for n>=20 ... continuing \"\n"
     ]
    }
   ],
   "source": [
    "# The best predicting model\n",
    "res = smf.ols(formula = 'unemployment_rate ~ White+Black+Asian', data=all).fit()\n",
    "print(res.summary())"
   ]
  }
 ],
 "metadata": {
  "kernelspec": {
   "display_name": "Python 3",
   "language": "python",
   "name": "python3"
  },
  "language_info": {
   "codemirror_mode": {
    "name": "ipython",
    "version": 3
   },
   "file_extension": ".py",
   "mimetype": "text/x-python",
   "name": "python",
   "nbconvert_exporter": "python",
   "pygments_lexer": "ipython3",
   "version": "3.8.5"
  }
 },
 "nbformat": 4,
 "nbformat_minor": 5
}
